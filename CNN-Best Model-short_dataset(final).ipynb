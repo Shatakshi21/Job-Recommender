{
 "cells": [
  {
   "cell_type": "code",
   "execution_count": 1,
   "metadata": {
    "scrolled": true
   },
   "outputs": [
    {
     "name": "stderr",
     "output_type": "stream",
     "text": [
      "Using TensorFlow backend.\n",
      "C:\\Users\\shata\\anaconda3\\lib\\site-packages\\tensorflow\\python\\framework\\dtypes.py:516: FutureWarning: Passing (type, 1) or '1type' as a synonym of type is deprecated; in a future version of numpy, it will be understood as (type, (1,)) / '(1,)type'.\n",
      "  _np_qint8 = np.dtype([(\"qint8\", np.int8, 1)])\n",
      "C:\\Users\\shata\\anaconda3\\lib\\site-packages\\tensorflow\\python\\framework\\dtypes.py:517: FutureWarning: Passing (type, 1) or '1type' as a synonym of type is deprecated; in a future version of numpy, it will be understood as (type, (1,)) / '(1,)type'.\n",
      "  _np_quint8 = np.dtype([(\"quint8\", np.uint8, 1)])\n",
      "C:\\Users\\shata\\anaconda3\\lib\\site-packages\\tensorflow\\python\\framework\\dtypes.py:518: FutureWarning: Passing (type, 1) or '1type' as a synonym of type is deprecated; in a future version of numpy, it will be understood as (type, (1,)) / '(1,)type'.\n",
      "  _np_qint16 = np.dtype([(\"qint16\", np.int16, 1)])\n",
      "C:\\Users\\shata\\anaconda3\\lib\\site-packages\\tensorflow\\python\\framework\\dtypes.py:519: FutureWarning: Passing (type, 1) or '1type' as a synonym of type is deprecated; in a future version of numpy, it will be understood as (type, (1,)) / '(1,)type'.\n",
      "  _np_quint16 = np.dtype([(\"quint16\", np.uint16, 1)])\n",
      "C:\\Users\\shata\\anaconda3\\lib\\site-packages\\tensorflow\\python\\framework\\dtypes.py:520: FutureWarning: Passing (type, 1) or '1type' as a synonym of type is deprecated; in a future version of numpy, it will be understood as (type, (1,)) / '(1,)type'.\n",
      "  _np_qint32 = np.dtype([(\"qint32\", np.int32, 1)])\n",
      "C:\\Users\\shata\\anaconda3\\lib\\site-packages\\tensorflow\\python\\framework\\dtypes.py:525: FutureWarning: Passing (type, 1) or '1type' as a synonym of type is deprecated; in a future version of numpy, it will be understood as (type, (1,)) / '(1,)type'.\n",
      "  np_resource = np.dtype([(\"resource\", np.ubyte, 1)])\n",
      "C:\\Users\\shata\\anaconda3\\lib\\site-packages\\tensorboard\\compat\\tensorflow_stub\\dtypes.py:541: FutureWarning: Passing (type, 1) or '1type' as a synonym of type is deprecated; in a future version of numpy, it will be understood as (type, (1,)) / '(1,)type'.\n",
      "  _np_qint8 = np.dtype([(\"qint8\", np.int8, 1)])\n",
      "C:\\Users\\shata\\anaconda3\\lib\\site-packages\\tensorboard\\compat\\tensorflow_stub\\dtypes.py:542: FutureWarning: Passing (type, 1) or '1type' as a synonym of type is deprecated; in a future version of numpy, it will be understood as (type, (1,)) / '(1,)type'.\n",
      "  _np_quint8 = np.dtype([(\"quint8\", np.uint8, 1)])\n",
      "C:\\Users\\shata\\anaconda3\\lib\\site-packages\\tensorboard\\compat\\tensorflow_stub\\dtypes.py:543: FutureWarning: Passing (type, 1) or '1type' as a synonym of type is deprecated; in a future version of numpy, it will be understood as (type, (1,)) / '(1,)type'.\n",
      "  _np_qint16 = np.dtype([(\"qint16\", np.int16, 1)])\n",
      "C:\\Users\\shata\\anaconda3\\lib\\site-packages\\tensorboard\\compat\\tensorflow_stub\\dtypes.py:544: FutureWarning: Passing (type, 1) or '1type' as a synonym of type is deprecated; in a future version of numpy, it will be understood as (type, (1,)) / '(1,)type'.\n",
      "  _np_quint16 = np.dtype([(\"quint16\", np.uint16, 1)])\n",
      "C:\\Users\\shata\\anaconda3\\lib\\site-packages\\tensorboard\\compat\\tensorflow_stub\\dtypes.py:545: FutureWarning: Passing (type, 1) or '1type' as a synonym of type is deprecated; in a future version of numpy, it will be understood as (type, (1,)) / '(1,)type'.\n",
      "  _np_qint32 = np.dtype([(\"qint32\", np.int32, 1)])\n",
      "C:\\Users\\shata\\anaconda3\\lib\\site-packages\\tensorboard\\compat\\tensorflow_stub\\dtypes.py:550: FutureWarning: Passing (type, 1) or '1type' as a synonym of type is deprecated; in a future version of numpy, it will be understood as (type, (1,)) / '(1,)type'.\n",
      "  np_resource = np.dtype([(\"resource\", np.ubyte, 1)])\n"
     ]
    }
   ],
   "source": [
    "from keras.models import Sequential\n",
    "from keras.layers import Conv1D, GlobalMaxPooling1D, Embedding, LSTM\n",
    "from keras.layers.core import Dense, Dropout, Activation\n",
    "from keras.preprocessing.text import Tokenizer\n",
    "from keras import metrics, regularizers\n",
    "from keras.preprocessing import sequence\n",
    "import pandas as pd\n",
    "\n",
    "from sklearn.model_selection import train_test_split\n",
    "from sklearn.preprocessing import LabelBinarizer"
   ]
  },
  {
   "cell_type": "code",
   "execution_count": 2,
   "metadata": {},
   "outputs": [
    {
     "data": {
      "text/plain": [
       "Index(['Job_Title', 'Description'], dtype='object')"
      ]
     },
     "execution_count": 2,
     "metadata": {},
     "output_type": "execute_result"
    }
   ],
   "source": [
    "#Load cleaned dataset\n",
    "data = pd.read_csv('short_dataset_final.csv', header = 0, names = ['Job_Title', 'Description'])\n",
    "#data = pd.read_csv('../../Results/Cleaned_JobsNonIT.csv', header = 0, names = ['Query', 'Description'])\n",
    "data.columns"
   ]
  },
  {
   "cell_type": "code",
   "execution_count": 3,
   "metadata": {},
   "outputs": [
    {
     "data": {
      "text/html": [
       "<div>\n",
       "<style scoped>\n",
       "    .dataframe tbody tr th:only-of-type {\n",
       "        vertical-align: middle;\n",
       "    }\n",
       "\n",
       "    .dataframe tbody tr th {\n",
       "        vertical-align: top;\n",
       "    }\n",
       "\n",
       "    .dataframe thead th {\n",
       "        text-align: right;\n",
       "    }\n",
       "</style>\n",
       "<table border=\"1\" class=\"dataframe\">\n",
       "  <thead>\n",
       "    <tr style=\"text-align: right;\">\n",
       "      <th></th>\n",
       "      <th>Job_Title</th>\n",
       "      <th>Description</th>\n",
       "    </tr>\n",
       "  </thead>\n",
       "  <tbody>\n",
       "    <tr>\n",
       "      <th>0</th>\n",
       "      <td>Data Scientist</td>\n",
       "      <td>month</td>\n",
       "    </tr>\n",
       "    <tr>\n",
       "      <th>1</th>\n",
       "      <td>Data Scientist</td>\n",
       "      <td>study transform data science prototype seeking...</td>\n",
       "    </tr>\n",
       "    <tr>\n",
       "      <th>2</th>\n",
       "      <td>Data Scientist</td>\n",
       "      <td>work data engineer deploy model build data pip...</td>\n",
       "    </tr>\n",
       "    <tr>\n",
       "      <th>3</th>\n",
       "      <td>Data Scientist</td>\n",
       "      <td>data wrangling data cleansing experience uk wo...</td>\n",
       "    </tr>\n",
       "    <tr>\n",
       "      <th>4</th>\n",
       "      <td>Data Scientist</td>\n",
       "      <td>identifying pattern trend large data set suppo...</td>\n",
       "    </tr>\n",
       "    <tr>\n",
       "      <th>...</th>\n",
       "      <td>...</td>\n",
       "      <td>...</td>\n",
       "    </tr>\n",
       "    <tr>\n",
       "      <th>10495</th>\n",
       "      <td>UI UX Designer</td>\n",
       "      <td>joining team including senior developer ux ui ...</td>\n",
       "    </tr>\n",
       "    <tr>\n",
       "      <th>10496</th>\n",
       "      <td>UI UX Designer</td>\n",
       "      <td>boeing company currently seeking high performi...</td>\n",
       "    </tr>\n",
       "    <tr>\n",
       "      <th>10497</th>\n",
       "      <td>UI UX Designer</td>\n",
       "      <td>passionate creating highly functional beautifu...</td>\n",
       "    </tr>\n",
       "    <tr>\n",
       "      <th>10498</th>\n",
       "      <td>UI UX Designer</td>\n",
       "      <td>patientmd integrated mobile platform informati...</td>\n",
       "    </tr>\n",
       "    <tr>\n",
       "      <th>10499</th>\n",
       "      <td>UI UX Designer</td>\n",
       "      <td>looking talented user experience designer u ma...</td>\n",
       "    </tr>\n",
       "  </tbody>\n",
       "</table>\n",
       "<p>10500 rows × 2 columns</p>\n",
       "</div>"
      ],
      "text/plain": [
       "            Job_Title                                        Description\n",
       "0      Data Scientist                                              month\n",
       "1      Data Scientist  study transform data science prototype seeking...\n",
       "2      Data Scientist  work data engineer deploy model build data pip...\n",
       "3      Data Scientist  data wrangling data cleansing experience uk wo...\n",
       "4      Data Scientist  identifying pattern trend large data set suppo...\n",
       "...               ...                                                ...\n",
       "10495  UI UX Designer  joining team including senior developer ux ui ...\n",
       "10496  UI UX Designer  boeing company currently seeking high performi...\n",
       "10497  UI UX Designer  passionate creating highly functional beautifu...\n",
       "10498  UI UX Designer  patientmd integrated mobile platform informati...\n",
       "10499  UI UX Designer  looking talented user experience designer u ma...\n",
       "\n",
       "[10500 rows x 2 columns]"
      ]
     },
     "execution_count": 3,
     "metadata": {},
     "output_type": "execute_result"
    }
   ],
   "source": [
    "data\n"
   ]
  },
  {
   "cell_type": "code",
   "execution_count": 4,
   "metadata": {},
   "outputs": [],
   "source": [
    "#Split the dataset to Training and Test subsets (90/10)\n",
    "train, test = train_test_split(data, test_size = 0.1, random_state = 17) #random_state = None\n",
    "\n",
    "train_descs = train['Description']\n",
    "train_labels = train['Job_Title']\n",
    " \n",
    "test_descs = test['Description']\n",
    "test_labels = test['Job_Title']"
   ]
  },
  {
   "cell_type": "code",
   "execution_count": 5,
   "metadata": {},
   "outputs": [],
   "source": [
    "total_jobs=pd.read_csv('job_list_final.csv',header=0,names=['Job_Titles'])"
   ]
  },
  {
   "cell_type": "code",
   "execution_count": 6,
   "metadata": {},
   "outputs": [
    {
     "data": {
      "text/html": [
       "<div>\n",
       "<style scoped>\n",
       "    .dataframe tbody tr th:only-of-type {\n",
       "        vertical-align: middle;\n",
       "    }\n",
       "\n",
       "    .dataframe tbody tr th {\n",
       "        vertical-align: top;\n",
       "    }\n",
       "\n",
       "    .dataframe thead th {\n",
       "        text-align: right;\n",
       "    }\n",
       "</style>\n",
       "<table border=\"1\" class=\"dataframe\">\n",
       "  <thead>\n",
       "    <tr style=\"text-align: right;\">\n",
       "      <th></th>\n",
       "      <th>Job_Titles</th>\n",
       "    </tr>\n",
       "  </thead>\n",
       "  <tbody>\n",
       "    <tr>\n",
       "      <th>0</th>\n",
       "      <td>Data Scientist</td>\n",
       "    </tr>\n",
       "    <tr>\n",
       "      <th>1</th>\n",
       "      <td>Data Analyst</td>\n",
       "    </tr>\n",
       "    <tr>\n",
       "      <th>2</th>\n",
       "      <td>Database Administrator</td>\n",
       "    </tr>\n",
       "    <tr>\n",
       "      <th>3</th>\n",
       "      <td>Business Analyst</td>\n",
       "    </tr>\n",
       "    <tr>\n",
       "      <th>4</th>\n",
       "      <td>Machine Learning</td>\n",
       "    </tr>\n",
       "    <tr>\n",
       "      <th>5</th>\n",
       "      <td>Artificial Intelligence</td>\n",
       "    </tr>\n",
       "    <tr>\n",
       "      <th>6</th>\n",
       "      <td>Deep Learning</td>\n",
       "    </tr>\n",
       "    <tr>\n",
       "      <th>7</th>\n",
       "      <td>Big Data Engineer</td>\n",
       "    </tr>\n",
       "    <tr>\n",
       "      <th>8</th>\n",
       "      <td>Cloud Services Developer</td>\n",
       "    </tr>\n",
       "    <tr>\n",
       "      <th>9</th>\n",
       "      <td>Full Stack Developer</td>\n",
       "    </tr>\n",
       "    <tr>\n",
       "      <th>10</th>\n",
       "      <td>Network Architect</td>\n",
       "    </tr>\n",
       "    <tr>\n",
       "      <th>11</th>\n",
       "      <td>Software Developer</td>\n",
       "    </tr>\n",
       "    <tr>\n",
       "      <th>12</th>\n",
       "      <td>Robotics</td>\n",
       "    </tr>\n",
       "    <tr>\n",
       "      <th>13</th>\n",
       "      <td>VLSI Engineer</td>\n",
       "    </tr>\n",
       "    <tr>\n",
       "      <th>14</th>\n",
       "      <td>Embedded Systems Engineeering</td>\n",
       "    </tr>\n",
       "    <tr>\n",
       "      <th>15</th>\n",
       "      <td>Electronics Engineer</td>\n",
       "    </tr>\n",
       "    <tr>\n",
       "      <th>16</th>\n",
       "      <td>Mechanical Engineer</td>\n",
       "    </tr>\n",
       "    <tr>\n",
       "      <th>17</th>\n",
       "      <td>Electrical Engineer</td>\n",
       "    </tr>\n",
       "    <tr>\n",
       "      <th>18</th>\n",
       "      <td>Mechatronics Engineer</td>\n",
       "    </tr>\n",
       "    <tr>\n",
       "      <th>19</th>\n",
       "      <td>Civil Engineer</td>\n",
       "    </tr>\n",
       "    <tr>\n",
       "      <th>20</th>\n",
       "      <td>Cybersecurity Engineer</td>\n",
       "    </tr>\n",
       "    <tr>\n",
       "      <th>21</th>\n",
       "      <td>UI UX Designer</td>\n",
       "    </tr>\n",
       "  </tbody>\n",
       "</table>\n",
       "</div>"
      ],
      "text/plain": [
       "                       Job_Titles\n",
       "0                  Data Scientist\n",
       "1                    Data Analyst\n",
       "2          Database Administrator\n",
       "3                Business Analyst\n",
       "4                Machine Learning\n",
       "5         Artificial Intelligence\n",
       "6                   Deep Learning\n",
       "7               Big Data Engineer\n",
       "8        Cloud Services Developer\n",
       "9            Full Stack Developer\n",
       "10              Network Architect\n",
       "11             Software Developer\n",
       "12                       Robotics\n",
       "13                  VLSI Engineer\n",
       "14  Embedded Systems Engineeering\n",
       "15           Electronics Engineer\n",
       "16            Mechanical Engineer\n",
       "17            Electrical Engineer\n",
       "18          Mechatronics Engineer\n",
       "19                 Civil Engineer\n",
       "20         Cybersecurity Engineer\n",
       "21                 UI UX Designer"
      ]
     },
     "execution_count": 6,
     "metadata": {},
     "output_type": "execute_result"
    }
   ],
   "source": [
    "total_jobs"
   ]
  },
  {
   "cell_type": "code",
   "execution_count": 14,
   "metadata": {},
   "outputs": [],
   "source": [
    "# Model Parameters\n",
    "vocab_size = 1000\n",
    "\n",
    "sequences_length = 1200\n",
    "\n",
    "embedding_dimensionality = 64 #possibly low??\n",
    "max_features = 2000 #equal to vocab_size\n",
    "\n",
    "num_labels = len(train_labels.unique())\n",
    "batch_size = 32\n",
    "nb_epoch = 20\n",
    "\n",
    "nof_filters = 200\n",
    "kernel_size = 16\n",
    "\n",
    "hidden_dims = 512"
   ]
  },
  {
   "cell_type": "code",
   "execution_count": 15,
   "metadata": {},
   "outputs": [],
   "source": [
    "# Convert Texts to Numeric Vectors for Input\n",
    "tokenizer = Tokenizer(num_words = vocab_size)\n",
    "tokenizer.fit_on_texts(train_descs)\n",
    "\n",
    "x_train = tokenizer.texts_to_sequences(train_descs)\n",
    "x_test = tokenizer.texts_to_sequences(test_descs)\n",
    "\n",
    "x_train = sequence.pad_sequences(x_train, maxlen = sequences_length, padding = 'post')\n",
    "x_test = sequence.pad_sequences(x_test, maxlen = sequences_length, padding = 'post')\n",
    "\n",
    "encoder = LabelBinarizer()\n",
    "encoder.fit(train_labels)\n",
    "y_train = encoder.transform(train_labels)\n",
    "y_test = encoder.transform(test_labels)"
   ]
  },
  {
   "cell_type": "code",
   "execution_count": 16,
   "metadata": {},
   "outputs": [
    {
     "name": "stdout",
     "output_type": "stream",
     "text": [
      "WARNING:tensorflow:From C:\\Users\\DELL\\Anaconda3\\lib\\site-packages\\tensorflow\\python\\framework\\op_def_library.py:263: colocate_with (from tensorflow.python.framework.ops) is deprecated and will be removed in a future version.\n",
      "Instructions for updating:\n",
      "Colocations handled automatically by placer.\n",
      "WARNING:tensorflow:From C:\\Users\\DELL\\Anaconda3\\lib\\site-packages\\keras\\backend\\tensorflow_backend.py:3445: calling dropout (from tensorflow.python.ops.nn_ops) with keep_prob is deprecated and will be removed in a future version.\n",
      "Instructions for updating:\n",
      "Please use `rate` instead of `keep_prob`. Rate should be set to `rate = 1 - keep_prob`.\n",
      "_________________________________________________________________\n",
      "Layer (type)                 Output Shape              Param #   \n",
      "=================================================================\n",
      "embedding_1 (Embedding)      (None, 1200, 64)          128000    \n",
      "_________________________________________________________________\n",
      "conv1d_1 (Conv1D)            (None, 1185, 200)         205000    \n",
      "_________________________________________________________________\n",
      "global_max_pooling1d_1 (Glob (None, 200)               0         \n",
      "_________________________________________________________________\n",
      "dense_1 (Dense)              (None, 512)               102912    \n",
      "_________________________________________________________________\n",
      "dropout_1 (Dropout)          (None, 512)               0         \n",
      "_________________________________________________________________\n",
      "activation_1 (Activation)    (None, 512)               0         \n",
      "_________________________________________________________________\n",
      "dense_2 (Dense)              (None, 21)                10773     \n",
      "_________________________________________________________________\n",
      "activation_2 (Activation)    (None, 21)                0         \n",
      "=================================================================\n",
      "Total params: 446,685\n",
      "Trainable params: 446,685\n",
      "Non-trainable params: 0\n",
      "_________________________________________________________________\n"
     ]
    }
   ],
   "source": [
    "model = Sequential()\n",
    "model.add(Embedding(max_features, embedding_dimensionality, input_length = 1200))\n",
    "#model.add(LSTM(100, dropout=0.2, recurrent_dropout=0.2))\n",
    "\n",
    "model.add(Conv1D(nof_filters, kernel_size, padding='valid', activation='relu', strides = 1))\n",
    "model.add(GlobalMaxPooling1D())\n",
    "\n",
    "model.add(Dense(hidden_dims))\n",
    "model.add(Dropout(0.3))\n",
    "model.add(Activation('relu'))\n",
    "\n",
    "model.add(Dense(num_labels))\n",
    "model.add(Activation('softmax'))\n",
    "\n",
    "model.summary()\n",
    "model.compile(loss='categorical_crossentropy', optimizer='adam', #'sgd', 'adam', 'RMSprop', 'Adagrad'\n",
    "                   metrics = [metrics.categorical_accuracy])"
   ]
  },
  {
   "cell_type": "code",
   "execution_count": 17,
   "metadata": {},
   "outputs": [
    {
     "name": "stdout",
     "output_type": "stream",
     "text": [
      "WARNING:tensorflow:From C:\\Users\\DELL\\Anaconda3\\lib\\site-packages\\tensorflow\\python\\ops\\math_ops.py:3066: to_int32 (from tensorflow.python.ops.math_ops) is deprecated and will be removed in a future version.\n",
      "Instructions for updating:\n",
      "Use tf.cast instead.\n",
      "WARNING:tensorflow:From C:\\Users\\DELL\\Anaconda3\\lib\\site-packages\\tensorflow\\python\\ops\\math_grad.py:102: div (from tensorflow.python.ops.math_ops) is deprecated and will be removed in a future version.\n",
      "Instructions for updating:\n",
      "Deprecated in favor of operator or tf.math.divide.\n",
      "Train on 7560 samples, validate on 1890 samples\n",
      "Epoch 1/20\n",
      "7560/7560 [==============================] - 321s 42ms/step - loss: 1.8928 - categorical_accuracy: 0.4419 - val_loss: 1.0558 - val_categorical_accuracy: 0.6799\n",
      "Epoch 2/20\n",
      "7560/7560 [==============================] - 297s 39ms/step - loss: 0.8185 - categorical_accuracy: 0.7406 - val_loss: 0.9491 - val_categorical_accuracy: 0.7058\n",
      "Epoch 3/20\n",
      "7560/7560 [==============================] - 293s 39ms/step - loss: 0.5714 - categorical_accuracy: 0.8142 - val_loss: 0.9538 - val_categorical_accuracy: 0.7249\n",
      "Epoch 4/20\n",
      "7560/7560 [==============================] - 294s 39ms/step - loss: 0.4162 - categorical_accuracy: 0.8614 - val_loss: 0.9942 - val_categorical_accuracy: 0.7212\n",
      "Epoch 5/20\n",
      "7560/7560 [==============================] - 293s 39ms/step - loss: 0.3170 - categorical_accuracy: 0.8980 - val_loss: 1.1202 - val_categorical_accuracy: 0.7063\n",
      "Epoch 6/20\n",
      "7560/7560 [==============================] - 292s 39ms/step - loss: 0.2750 - categorical_accuracy: 0.9090 - val_loss: 1.1584 - val_categorical_accuracy: 0.7101\n",
      "Epoch 7/20\n",
      "7560/7560 [==============================] - 295s 39ms/step - loss: 0.2407 - categorical_accuracy: 0.9181 - val_loss: 1.1695 - val_categorical_accuracy: 0.7190\n",
      "Epoch 8/20\n",
      "7560/7560 [==============================] - 293s 39ms/step - loss: 0.2218 - categorical_accuracy: 0.9267 - val_loss: 1.2272 - val_categorical_accuracy: 0.7032\n",
      "Epoch 9/20\n",
      "7560/7560 [==============================] - 294s 39ms/step - loss: 0.2108 - categorical_accuracy: 0.9299 - val_loss: 1.1868 - val_categorical_accuracy: 0.7063\n",
      "Epoch 10/20\n",
      "7560/7560 [==============================] - 305s 40ms/step - loss: 0.1978 - categorical_accuracy: 0.9295 - val_loss: 1.2231 - val_categorical_accuracy: 0.7090\n",
      "Epoch 11/20\n",
      "7560/7560 [==============================] - 294s 39ms/step - loss: 0.1912 - categorical_accuracy: 0.9280 - val_loss: 1.2798 - val_categorical_accuracy: 0.7132\n",
      "Epoch 12/20\n",
      "7560/7560 [==============================] - 289s 38ms/step - loss: 0.1809 - categorical_accuracy: 0.9321 - val_loss: 1.3254 - val_categorical_accuracy: 0.7079\n",
      "Epoch 13/20\n",
      "7560/7560 [==============================] - 328s 43ms/step - loss: 0.1724 - categorical_accuracy: 0.9332 - val_loss: 1.3048 - val_categorical_accuracy: 0.7159\n",
      "Epoch 14/20\n",
      "7560/7560 [==============================] - 291s 38ms/step - loss: 0.1618 - categorical_accuracy: 0.9320 - val_loss: 1.3301 - val_categorical_accuracy: 0.7148\n",
      "Epoch 15/20\n",
      "7560/7560 [==============================] - 289s 38ms/step - loss: 0.1499 - categorical_accuracy: 0.9352 - val_loss: 1.4168 - val_categorical_accuracy: 0.7074\n",
      "Epoch 16/20\n",
      "7560/7560 [==============================] - 288s 38ms/step - loss: 0.1493 - categorical_accuracy: 0.9333 - val_loss: 1.3818 - val_categorical_accuracy: 0.7138\n",
      "Epoch 17/20\n",
      "7560/7560 [==============================] - 287s 38ms/step - loss: 0.1395 - categorical_accuracy: 0.9348 - val_loss: 1.4105 - val_categorical_accuracy: 0.7069\n",
      "Epoch 18/20\n",
      "7560/7560 [==============================] - 288s 38ms/step - loss: 0.1386 - categorical_accuracy: 0.9373 - val_loss: 1.4948 - val_categorical_accuracy: 0.7159\n",
      "Epoch 19/20\n",
      "7560/7560 [==============================] - 290s 38ms/step - loss: 0.1338 - categorical_accuracy: 0.9362 - val_loss: 1.5905 - val_categorical_accuracy: 0.7079\n",
      "Epoch 20/20\n",
      "7560/7560 [==============================] - 288s 38ms/step - loss: 0.1297 - categorical_accuracy: 0.9369 - val_loss: 1.5686 - val_categorical_accuracy: 0.7148\n"
     ]
    }
   ],
   "source": [
    "history = model.fit(x_train, y_train,\n",
    "                    batch_size = batch_size,\n",
    "                    epochs = nb_epoch,\n",
    "                    verbose = True,\n",
    "                    validation_split = 0.2)"
   ]
  },
  {
   "cell_type": "code",
   "execution_count": 18,
   "metadata": {},
   "outputs": [
    {
     "name": "stdout",
     "output_type": "stream",
     "text": [
      "1050/1050 [==============================] - 13s 13ms/step\n",
      "\n",
      "Test categorical_crossentropy: 1.5374882443745932\n",
      "Categorical accuracy: 0.7247619049889701\n"
     ]
    }
   ],
   "source": [
    "score = model.evaluate(x_test, y_test, batch_size = batch_size, verbose = True)\n",
    " \n",
    "print('\\nTest categorical_crossentropy:', score[0])\n",
    "print('Categorical accuracy:', score[1])\n"
   ]
  },
  {
   "cell_type": "code",
   "execution_count": 11,
   "metadata": {},
   "outputs": [
    {
     "data": {
      "text/plain": [
       "<Figure size 640x480 with 1 Axes>"
      ]
     },
     "metadata": {},
     "output_type": "display_data"
    }
   ],
   "source": [
    "# summarize history for accuracy\n",
    "import matplotlib.pyplot as plt\n",
    "\n",
    "plt.plot(history.history['categorical_accuracy'])\n",
    "plt.plot(history.history['val_categorical_accuracy'])\n",
    "plt.title('model accuracy')\n",
    "plt.ylabel('classification accuracy')\n",
    "plt.xlabel('epochs')\n",
    "plt.legend(['train', 'test'], loc='upper left')\n",
    "plt.show()"
   ]
  },
  {
   "cell_type": "code",
   "execution_count": 19,
   "metadata": {},
   "outputs": [],
   "source": [
    "model.save('recommend.h5')"
   ]
  },
  {
   "cell_type": "code",
   "execution_count": 20,
   "metadata": {},
   "outputs": [],
   "source": [
    "from keras.models import load_model\n",
    "#see here----------------------------\n",
    "text_model=load_model('recommend.h5')"
   ]
  },
  {
   "cell_type": "code",
   "execution_count": 63,
   "metadata": {},
   "outputs": [
    {
     "data": {
      "text/plain": [
       "array([[808,  50, 173, ...,   0,   0,   0],\n",
       "       [  4,   9,  80, ...,   0,   0,   0],\n",
       "       [ 29, 958,  29, ...,   0,   0,   0],\n",
       "       ...,\n",
       "       [547,  38,  49, ...,   0,   0,   0],\n",
       "       [764, 343, 105, ...,   0,   0,   0],\n",
       "       [661,  42, 254, ...,   0,   0,   0]])"
      ]
     },
     "execution_count": 63,
     "metadata": {},
     "output_type": "execute_result"
    }
   ],
   "source": [
    "x_test"
   ]
  },
  {
   "cell_type": "code",
   "execution_count": 64,
   "metadata": {},
   "outputs": [],
   "source": [
    "res=model.predict(x_test)"
   ]
  },
  {
   "cell_type": "code",
   "execution_count": 28,
   "metadata": {},
   "outputs": [
    {
     "data": {
      "text/plain": [
       "array([[1.6886569e-09, 5.8988559e-07, 4.0312923e-04, ..., 7.1793896e-05,\n",
       "        4.4700514e-06, 6.1989781e-03],\n",
       "       [1.5714272e-06, 4.9058631e-06, 2.0337593e-05, ..., 2.0316073e-09,\n",
       "        2.1142739e-06, 4.9302521e-08],\n",
       "       [2.8384868e-05, 1.4584553e-08, 7.9045464e-07, ..., 6.6800858e-05,\n",
       "        1.0763492e-05, 1.8184998e-09],\n",
       "       ...,\n",
       "       [9.1106653e-05, 5.9715647e-05, 1.6784282e-06, ..., 9.5531675e-07,\n",
       "        1.0373650e-05, 5.1941900e-09],\n",
       "       [3.4031687e-05, 9.4583791e-01, 1.3826541e-10, ..., 1.4943292e-07,\n",
       "        8.4634331e-07, 3.4342150e-04],\n",
       "       [8.7444996e-03, 1.3082624e-05, 5.0020446e-08, ..., 5.8264559e-06,\n",
       "        1.7407619e-06, 1.3709583e-05]], dtype=float32)"
      ]
     },
     "execution_count": 28,
     "metadata": {},
     "output_type": "execute_result"
    }
   ],
   "source": [
    "res"
   ]
  },
  {
   "cell_type": "code",
   "execution_count": null,
   "metadata": {},
   "outputs": [],
   "source": [
    "#---------------------see from here----------------"
   ]
  },
  {
   "cell_type": "code",
   "execution_count": 38,
   "metadata": {},
   "outputs": [],
   "source": [
    "query=['machine learning']"
   ]
  },
  {
   "cell_type": "code",
   "execution_count": 39,
   "metadata": {},
   "outputs": [],
   "source": [
    "query = tokenizer.texts_to_sequences(query)\n",
    "\n",
    "#x_train = sequence.pad_sequences(x_train, maxlen = sequences_length, padding = 'post')\n",
    "query = sequence.pad_sequences(query, maxlen = sequences_length, padding = 'post')\n",
    "\n",
    "#encoder = LabelBinarizer()\n",
    "#encoder.fit(train_labels)\n",
    "#y_train = encoder.transform(train_labels)\n",
    "#y_test = encoder.transform(test_labels)"
   ]
  },
  {
   "cell_type": "code",
   "execution_count": 40,
   "metadata": {},
   "outputs": [],
   "source": [
    "res=model.predict(query)"
   ]
  },
  {
   "cell_type": "code",
   "execution_count": 41,
   "metadata": {},
   "outputs": [
    {
     "data": {
      "text/plain": [
       "1"
      ]
     },
     "execution_count": 41,
     "metadata": {},
     "output_type": "execute_result"
    }
   ],
   "source": [
    "len(res)"
   ]
  },
  {
   "cell_type": "code",
   "execution_count": 42,
   "metadata": {},
   "outputs": [
    {
     "data": {
      "text/plain": [
       "array([[0.10209953, 0.01700058, 0.0166914 , 0.01403608, 0.01123492,\n",
       "        0.0252146 , 0.03481248, 0.06165478, 0.02760767, 0.14033528,\n",
       "        0.01925051, 0.04019922, 0.02152535, 0.30851576, 0.07276127,\n",
       "        0.01825023, 0.01392811, 0.01866319, 0.01753668, 0.00661737,\n",
       "        0.0120649 ]], dtype=float32)"
      ]
     },
     "execution_count": 42,
     "metadata": {},
     "output_type": "execute_result"
    }
   ],
   "source": [
    "res"
   ]
  },
  {
   "cell_type": "code",
   "execution_count": 26,
   "metadata": {},
   "outputs": [],
   "source": [
    "train_titles=list(train_labels)\n",
    "title_indices=y_train.argmax(axis=-1)               \n",
    "title_indices=list(title_indices)                  "
   ]
  },
  {
   "cell_type": "code",
   "execution_count": 27,
   "metadata": {},
   "outputs": [],
   "source": [
    "result=[]\n",
    "for i in range(0,22):           #this model had 22 jobs \n",
    "    for j in range(len(title_indices)):\n",
    "        if(title_indices[j])==i:\n",
    "            result.append(train_titles[j])\n",
    "            break"
   ]
  },
  {
   "cell_type": "code",
   "execution_count": 28,
   "metadata": {},
   "outputs": [
    {
     "data": {
      "text/plain": [
       "['Artificial Intelligence',\n",
       " 'Big Data Engineer',\n",
       " 'Business Analyst',\n",
       " 'Civil Engineer',\n",
       " 'Cloud Services Developer',\n",
       " 'Cybersecurity Engineer',\n",
       " 'Data Analyst',\n",
       " 'Data Scientist',\n",
       " 'Database Administrator',\n",
       " 'Deep Learning',\n",
       " 'Electrical Engineer',\n",
       " 'Electronics Engineer',\n",
       " 'Full Stack Developer',\n",
       " 'Machine Learning',\n",
       " 'Mechanical Engineer',\n",
       " 'Mechatronics Engineer',\n",
       " 'Network Architect',\n",
       " 'Robotics',\n",
       " 'Software Developer',\n",
       " 'UI UX Designer',\n",
       " 'VLSI Engineer']"
      ]
     },
     "execution_count": 28,
     "metadata": {},
     "output_type": "execute_result"
    }
   ],
   "source": [
    "result"
   ]
  },
  {
   "cell_type": "code",
   "execution_count": 43,
   "metadata": {},
   "outputs": [],
   "source": [
    "pred_array=[]\n",
    "for l in range(len(res)):\n",
    "    indices=[]\n",
    "    pqr=list(res[l])\n",
    "    for j in range(0,3):\n",
    "        i=pqr.index(max(pqr))\n",
    "        indices.append(result[i])\n",
    "        pqr[i]=0;\n",
    "    pred_array.append(indices)    "
   ]
  },
  {
   "cell_type": "code",
   "execution_count": 44,
   "metadata": {},
   "outputs": [
    {
     "data": {
      "text/plain": [
       "[['Machine Learning', 'Deep Learning', 'Artificial Intelligence']]"
      ]
     },
     "execution_count": 44,
     "metadata": {},
     "output_type": "execute_result"
    }
   ],
   "source": [
    "pred_array"
   ]
  },
  {
   "cell_type": "code",
   "execution_count": null,
   "metadata": {},
   "outputs": [],
   "source": [
    "#--------------------------------------till here--------------------------"
   ]
  }
 ],
 "metadata": {
  "kernelspec": {
   "display_name": "Python 3",
   "language": "python",
   "name": "python3"
  },
  "language_info": {
   "codemirror_mode": {
    "name": "ipython",
    "version": 3
   },
   "file_extension": ".py",
   "mimetype": "text/x-python",
   "name": "python",
   "nbconvert_exporter": "python",
   "pygments_lexer": "ipython3",
   "version": "3.7.6"
  }
 },
 "nbformat": 4,
 "nbformat_minor": 2
}
